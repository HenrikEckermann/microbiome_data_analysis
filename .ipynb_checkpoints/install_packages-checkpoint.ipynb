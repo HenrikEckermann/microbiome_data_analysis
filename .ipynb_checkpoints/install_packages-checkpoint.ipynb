{
 "cells": [
  {
   "cell_type": "code",
   "execution_count": 1,
   "metadata": {},
   "outputs": [
    {
     "name": "stderr",
     "output_type": "stream",
     "text": [
      "Loading required package: permute\n",
      "Loading required package: lattice\n",
      "This is vegan 2.4-5\n"
     ]
    },
    {
     "ename": "ERROR",
     "evalue": "Error in library(Biostrings): there is no package called ‘Biostrings’\n",
     "output_type": "error",
     "traceback": [
      "Error in library(Biostrings): there is no package called ‘Biostrings’\nTraceback:\n",
      "1. library(Biostrings)",
      "2. stop(txt, domain = NA)"
     ]
    }
   ],
   "source": [
    "library(ggplot2)\n",
    "library(ape)\n",
    "library(plyr)\n",
    "library(vegan)\n",
    "library(Biostrings)\n",
    "library(RColorBrewer)\n",
    "library(reshape2)\n",
    "library(scales)\n",
    "library(data.table)\n",
    "library(DESeq2) # in case you want to use negative binomial for differential OTU analysis\n",
    "library(microbiome)\n",
    "library(dplyr)\n",
    "library(phyloseq)\n",
    "library(DT) #for interactive tables\n",
    "library(Rcpp)"
   ]
  },
  {
   "cell_type": "code",
   "execution_count": 2,
   "metadata": {},
   "outputs": [
    {
     "name": "stderr",
     "output_type": "stream",
     "text": [
      "Installing package into ‘/home/nbuser/R’\n",
      "(as ‘lib’ is unspecified)\n"
     ]
    }
   ],
   "source": [
    "install.packages(\"vegan\", dependencies = T)"
   ]
  },
  {
   "cell_type": "code",
   "execution_count": 5,
   "metadata": {},
   "outputs": [
    {
     "name": "stderr",
     "output_type": "stream",
     "text": [
      "Installing package into ‘/home/nbuser/R’\n",
      "(as ‘lib’ is unspecified)\n",
      "Bioconductor version 3.6 (BiocInstaller 1.28.0), ?biocLite for help\n",
      "A new version of Bioconductor is available after installing the most recent\n",
      "  version of R; see http://bioconductor.org/install\n",
      "BioC_mirror: https://bioconductor.org\n",
      "Using Bioconductor 3.6 (BiocInstaller 1.28.0), R 3.4.1 (2017-06-30).\n",
      "Installing package(s) ‘Biobase’, ‘IRanges’, ‘AnnotationDbi’\n",
      "also installing the dependencies ‘BiocGenerics’, ‘S4Vectors’\n",
      "\n",
      "installation path not writeable, unable to update packages: boot, checkpoint,\n",
      "  cluster, doParallel, foreach, foreign, IRdisplay, iterators, MASS, Matrix,\n",
      "  mgcv, nlme, png, R6, repr, rpart, RUnit, stringr, survival\n",
      "Old packages: 'actuar', 'ade4', 'adegraphics', 'adehabitatLT', 'alr4', 'amap',\n",
      "  'ape', 'arm', 'arules', 'BAS', 'BayesX', 'bfp', 'BH', 'biclust', 'bindr',\n",
      "  'bindrcpp', 'bit', 'blob', 'BMA', 'Bolstad', 'broom', 'C50', 'callr', 'car',\n",
      "  'carData', 'classInt', 'clue', 'commonmark', 'CORElearn', 'covr', 'coxme',\n",
      "  'crul', 'ctv', 'Cubist', 'data.table', 'DBI', 'DBItest', 'dbplyr', 'dclone',\n",
      "  'deldir', 'dendextend', 'desc', 'descr', 'deSolve', 'dfoptim', 'DiagrammeR',\n",
      "  'distrom', 'doBy', 'dplyr', 'DT', 'dtw', 'earth', 'effects', 'emulator',\n",
      "  'ensembleBMA', 'estimability', 'FactoMineR', 'fields', 'flexclust',\n",
      "  'forcats', 'Formula', 'futile.options', 'GA', 'gam', 'gamlr', 'gamlss',\n",
      "  'gamlss.data', 'gamlss.dist', 'gdtools', 'gender', 'GeneralizedHyperbolic',\n",
      "  'GGally', 'ggformula', 'ggthemes', 'glmmBUGS', 'glmnet', 'grpreg', 'gss',\n",
      "  'gstat', 'gsubfn', 'haplo.stats', 'haven', 'heavy', 'heplots', 'HistData',\n",
      "  'hms', 'htmlTable', 'htmlwidgets', 'inline', 'kernlab', 'KFAS', 'klaR',\n",
      "  'knitr', 'lambda.r', 'lava', 'lavaan', 'LearnBayes', 'lme4', 'lmtest',\n",
      "  'lsmeans', 'lubridate', 'magic', 'mapdata', 'mapproj', 'maps', 'Matching',\n",
      "  'MCMCpack', 'microbenchmark', 'missMDA', 'mixAK', 'mlogit', 'modelr',\n",
      "  'mombf', 'mosaic', 'mosaicCore', 'mosaicData', 'msm', 'mstate', 'mvoutlier',\n",
      "  'mvtnorm', 'ncvreg', 'network', 'NeuralNetTools', 'numbers', 'officer',\n",
      "  'ordinal', 'ore', 'party', 'partykit', 'PerformanceAnalytics', 'pillar',\n",
      "  'plogr', 'plotmo', 'plotrix', 'polyclip', 'pROC', 'prodlim',\n",
      "  'ProjectTemplate', 'proxy', 'pryr', 'psych', 'pwr', 'qdapDictionaries',\n",
      "  'quantmod', 'quantreg', 'R.oo', 'ramps', 'randomForest', 'Rcmdr',\n",
      "  'RcmdrMisc', 'Rcpp', 'RcppEigen', 'RcppProgress', 'readxl', 'relations',\n",
      "  'rentrez', 'ReporteRsjars', 'reprex', 'reticulate', 'rgenoud', 'RGtk2',\n",
      "  'RH2', 'ritis', 'RJDBC', 'rjson', 'rlang', 'rmarkdown', 'rmeta', 'RMySQL',\n",
      "  'RNeXML', 'robCompositions', 'robustbase', 'rotl', 'rpart.plot', 'rpf',\n",
      "  'RSQLite', 'Rttf2pt1', 'rvg', 'Rvmmin', 'scagnostics', 'scatterplot3d',\n",
      "  'selectr', 'seriation', 'sfsmisc', 'shape', 'SIS', 'slam', 'sourcetools',\n",
      "  'sp', 'spam', 'spData', 'spdep', 'sphet', 'spls', 'StanHeaders', 'stepPlr',\n",
      "  'stringdist', 'subselect', 'survey', 'svGUI', 'taxize', 'textir', 'tibble',\n",
      "  'tidyr', 'tidyselect', 'timeDate', 'timereg', 'tree', 'tseries', 'TSP',\n",
      "  'TTR', 'urltools', 'UsingR', 'VGAM', 'viridis', 'viridisLite', 'worrms',\n",
      "  'XLConnect', 'XLConnectJars', 'xml2', 'xts', 'yaml'\n"
     ]
    }
   ],
   "source": [
    "source(\"https://bioconductor.org/biocLite.R\")\n",
    "biocLite()"
   ]
  },
  {
   "cell_type": "code",
   "execution_count": 6,
   "metadata": {},
   "outputs": [
    {
     "name": "stderr",
     "output_type": "stream",
     "text": [
      "Installing package into ‘/home/nbuser/R’\n",
      "(as ‘lib’ is unspecified)\n",
      "Bioconductor version 3.6 (BiocInstaller 1.28.0), ?biocLite for help\n",
      "A new version of Bioconductor is available after installing the most recent\n",
      "  version of R; see http://bioconductor.org/install\n",
      "BioC_mirror: https://bioconductor.org\n",
      "Using Bioconductor 3.6 (BiocInstaller 1.28.0), R 3.4.1 (2017-06-30).\n",
      "Installing package(s) ‘BiocInstaller’\n",
      "installation path not writeable, unable to update packages: boot, checkpoint,\n",
      "  cluster, doParallel, foreach, foreign, IRdisplay, iterators, MASS, Matrix,\n",
      "  mgcv, nlme, png, R6, repr, rpart, RUnit, stringr, survival\n",
      "Old packages: 'actuar', 'ade4', 'adegraphics', 'adehabitatLT', 'alr4', 'amap',\n",
      "  'ape', 'arm', 'arules', 'BAS', 'BayesX', 'bfp', 'BH', 'biclust', 'bindr',\n",
      "  'bindrcpp', 'bit', 'blob', 'BMA', 'Bolstad', 'broom', 'C50', 'callr', 'car',\n",
      "  'carData', 'classInt', 'clue', 'commonmark', 'CORElearn', 'covr', 'coxme',\n",
      "  'crul', 'ctv', 'Cubist', 'data.table', 'DBI', 'DBItest', 'dbplyr', 'dclone',\n",
      "  'deldir', 'dendextend', 'desc', 'descr', 'deSolve', 'dfoptim', 'DiagrammeR',\n",
      "  'distrom', 'doBy', 'dplyr', 'DT', 'dtw', 'earth', 'effects', 'emulator',\n",
      "  'ensembleBMA', 'estimability', 'FactoMineR', 'fields', 'flexclust',\n",
      "  'forcats', 'Formula', 'futile.options', 'GA', 'gam', 'gamlr', 'gamlss',\n",
      "  'gamlss.data', 'gamlss.dist', 'gdtools', 'gender', 'GeneralizedHyperbolic',\n",
      "  'GGally', 'ggformula', 'ggthemes', 'glmmBUGS', 'glmnet', 'grpreg', 'gss',\n",
      "  'gstat', 'gsubfn', 'haplo.stats', 'haven', 'heavy', 'heplots', 'HistData',\n",
      "  'hms', 'htmlTable', 'htmlwidgets', 'inline', 'kernlab', 'KFAS', 'klaR',\n",
      "  'knitr', 'lambda.r', 'lava', 'lavaan', 'LearnBayes', 'lme4', 'lmtest',\n",
      "  'lsmeans', 'lubridate', 'magic', 'mapdata', 'mapproj', 'maps', 'Matching',\n",
      "  'MCMCpack', 'microbenchmark', 'missMDA', 'mixAK', 'mlogit', 'modelr',\n",
      "  'mombf', 'mosaic', 'mosaicCore', 'mosaicData', 'msm', 'mstate', 'mvoutlier',\n",
      "  'mvtnorm', 'ncvreg', 'network', 'NeuralNetTools', 'numbers', 'officer',\n",
      "  'ordinal', 'ore', 'party', 'partykit', 'PerformanceAnalytics', 'pillar',\n",
      "  'plogr', 'plotmo', 'plotrix', 'polyclip', 'pROC', 'prodlim',\n",
      "  'ProjectTemplate', 'proxy', 'pryr', 'psych', 'pwr', 'qdapDictionaries',\n",
      "  'quantmod', 'quantreg', 'R.oo', 'ramps', 'randomForest', 'Rcmdr',\n",
      "  'RcmdrMisc', 'Rcpp', 'RcppEigen', 'RcppProgress', 'readxl', 'relations',\n",
      "  'rentrez', 'ReporteRsjars', 'reprex', 'reticulate', 'rgenoud', 'RGtk2',\n",
      "  'RH2', 'ritis', 'RJDBC', 'rjson', 'rlang', 'rmarkdown', 'rmeta', 'RMySQL',\n",
      "  'RNeXML', 'robCompositions', 'robustbase', 'rotl', 'rpart.plot', 'rpf',\n",
      "  'RSQLite', 'Rttf2pt1', 'rvg', 'Rvmmin', 'scagnostics', 'scatterplot3d',\n",
      "  'selectr', 'seriation', 'sfsmisc', 'shape', 'SIS', 'slam', 'sourcetools',\n",
      "  'sp', 'spam', 'spData', 'spdep', 'sphet', 'spls', 'StanHeaders', 'stepPlr',\n",
      "  'stringdist', 'subselect', 'survey', 'svGUI', 'taxize', 'textir', 'tibble',\n",
      "  'tidyr', 'tidyselect', 'timeDate', 'timereg', 'tree', 'tseries', 'TSP',\n",
      "  'TTR', 'urltools', 'UsingR', 'vegan', 'VGAM', 'viridis', 'viridisLite',\n",
      "  'worrms', 'XLConnect', 'XLConnectJars', 'xml2', 'xts', 'yaml'\n"
     ]
    }
   ],
   "source": [
    "source(\"https://bioconductor.org/biocLite.R\")\n",
    "biocLite(\"BiocInstaller\")"
   ]
  },
  {
   "cell_type": "code",
   "execution_count": 7,
   "metadata": {},
   "outputs": [
    {
     "name": "stderr",
     "output_type": "stream",
     "text": [
      "Bioconductor version 3.6 (BiocInstaller 1.28.0), ?biocLite for help\n",
      "A new version of Bioconductor is available after installing the most recent\n",
      "  version of R; see http://bioconductor.org/install\n",
      "BioC_mirror: https://bioconductor.org\n",
      "Using Bioconductor 3.6 (BiocInstaller 1.28.0), R 3.4.1 (2017-06-30).\n",
      "Installing package(s) ‘ade4’, ‘fastcluster’, ‘df2json’, ‘rjson’, ‘gplots’,\n",
      "  ‘devtools’, ‘ggplot2’, ‘MASS’, ‘minet’, ‘mixOmics’, ‘plyr’, ‘qvalue’,\n",
      "  ‘reshape2’, ‘RPA’, ‘svDialogs’, ‘vegan’, ‘WGCNA’\n",
      "also installing the dependencies ‘httpuv’, ‘later’, ‘promises’, ‘miniUI’, ‘rhdf5’, ‘XVector’, ‘shiny’, ‘crosstalk’, ‘manipulateWidget’, ‘RSpectra’, ‘affyio’, ‘zlibbioc’, ‘biomformat’, ‘Biostrings’, ‘multtest’, ‘infotheo’, ‘rgl’, ‘matrixStats’, ‘rARPACK’, ‘affy’, ‘phyloseq’, ‘svGUI’, ‘dynamicTreeCut’, ‘impute’, ‘preprocessCore’, ‘GO.db’\n",
      "\n",
      "Warning message in install.packages(pkgs = doing, lib = lib, ...):\n",
      "“installation of package ‘httpuv’ had non-zero exit status”Warning message in install.packages(pkgs = doing, lib = lib, ...):\n",
      "“installation of package ‘shiny’ had non-zero exit status”Warning message in install.packages(pkgs = doing, lib = lib, ...):\n",
      "“installation of package ‘miniUI’ had non-zero exit status”Warning message in install.packages(pkgs = doing, lib = lib, ...):\n",
      "“installation of package ‘crosstalk’ had non-zero exit status”Warning message in install.packages(pkgs = doing, lib = lib, ...):\n",
      "“installation of package ‘manipulateWidget’ had non-zero exit status”Warning message in install.packages(pkgs = doing, lib = lib, ...):\n",
      "“installation of package ‘rgl’ had non-zero exit status”Warning message in install.packages(pkgs = doing, lib = lib, ...):\n",
      "“installation of package ‘mixOmics’ had non-zero exit status”installation path not writeable, unable to update packages: boot, checkpoint,\n",
      "  cluster, doParallel, foreach, foreign, IRdisplay, iterators, MASS, Matrix,\n",
      "  mgcv, nlme, png, R6, repr, rpart, RUnit, stringr, survival\n",
      "Old packages: 'actuar', 'adegraphics', 'adehabitatLT', 'alr4', 'amap', 'ape',\n",
      "  'arm', 'arules', 'BAS', 'BayesX', 'bfp', 'BH', 'biclust', 'bindr',\n",
      "  'bindrcpp', 'bit', 'blob', 'BMA', 'Bolstad', 'broom', 'C50', 'callr', 'car',\n",
      "  'carData', 'classInt', 'clue', 'commonmark', 'CORElearn', 'covr', 'coxme',\n",
      "  'crul', 'ctv', 'Cubist', 'data.table', 'DBI', 'DBItest', 'dbplyr', 'dclone',\n",
      "  'deldir', 'dendextend', 'desc', 'descr', 'deSolve', 'dfoptim', 'DiagrammeR',\n",
      "  'distrom', 'doBy', 'dplyr', 'DT', 'dtw', 'earth', 'effects', 'emulator',\n",
      "  'ensembleBMA', 'estimability', 'FactoMineR', 'fields', 'flexclust',\n",
      "  'forcats', 'Formula', 'futile.options', 'GA', 'gam', 'gamlr', 'gamlss',\n",
      "  'gamlss.data', 'gamlss.dist', 'gdtools', 'gender', 'GeneralizedHyperbolic',\n",
      "  'GGally', 'ggformula', 'ggthemes', 'glmmBUGS', 'glmnet', 'grpreg', 'gss',\n",
      "  'gstat', 'gsubfn', 'haplo.stats', 'haven', 'heavy', 'heplots', 'HistData',\n",
      "  'hms', 'htmlTable', 'htmlwidgets', 'inline', 'kernlab', 'KFAS', 'klaR',\n",
      "  'knitr', 'lambda.r', 'lava', 'lavaan', 'LearnBayes', 'lme4', 'lmtest',\n",
      "  'lsmeans', 'lubridate', 'magic', 'mapdata', 'mapproj', 'maps', 'Matching',\n",
      "  'MCMCpack', 'microbenchmark', 'missMDA', 'mixAK', 'mlogit', 'modelr',\n",
      "  'mombf', 'mosaic', 'mosaicCore', 'mosaicData', 'msm', 'mstate', 'mvoutlier',\n",
      "  'mvtnorm', 'ncvreg', 'network', 'NeuralNetTools', 'numbers', 'officer',\n",
      "  'ordinal', 'ore', 'party', 'partykit', 'PerformanceAnalytics', 'pillar',\n",
      "  'plogr', 'plotmo', 'plotrix', 'polyclip', 'pROC', 'prodlim',\n",
      "  'ProjectTemplate', 'proxy', 'pryr', 'psych', 'pwr', 'qdapDictionaries',\n",
      "  'quantmod', 'quantreg', 'R.oo', 'ramps', 'randomForest', 'Rcmdr',\n",
      "  'RcmdrMisc', 'Rcpp', 'RcppEigen', 'RcppProgress', 'readxl', 'relations',\n",
      "  'rentrez', 'ReporteRsjars', 'reprex', 'reticulate', 'rgenoud', 'RGtk2',\n",
      "  'RH2', 'ritis', 'RJDBC', 'rlang', 'rmarkdown', 'rmeta', 'RMySQL', 'RNeXML',\n",
      "  'robCompositions', 'robustbase', 'rotl', 'rpart.plot', 'rpf', 'RSQLite',\n",
      "  'Rttf2pt1', 'rvg', 'Rvmmin', 'scagnostics', 'scatterplot3d', 'selectr',\n",
      "  'seriation', 'sfsmisc', 'shape', 'SIS', 'slam', 'sourcetools', 'sp', 'spam',\n",
      "  'spData', 'spdep', 'sphet', 'spls', 'StanHeaders', 'stepPlr', 'stringdist',\n",
      "  'subselect', 'survey', 'taxize', 'textir', 'tibble', 'tidyr', 'tidyselect',\n",
      "  'timeDate', 'timereg', 'tree', 'tseries', 'TSP', 'TTR', 'urltools', 'UsingR',\n",
      "  'VGAM', 'viridis', 'viridisLite', 'worrms', 'XLConnect', 'XLConnectJars',\n",
      "  'xml2', 'xts', 'yaml'\n"
     ]
    }
   ],
   "source": [
    "source(\"http://www.bioconductor.org/biocLite.R\")\n",
    "biocLite(c(\"ade4\", \"fastcluster\", \"df2json\", \"rjson\", \"gplots\", \"devtools\", \"ggplot2\",\"MASS\",\"minet\",\"mixOmics\", \"plyr\",\"qvalue\",\"reshape2\",\"RPA\",\"svDialogs\",\"vegan\",\"WGCNA\"))"
   ]
  },
  {
   "cell_type": "code",
   "execution_count": 1,
   "metadata": {},
   "outputs": [
    {
     "ename": "ERROR",
     "evalue": "Error in library(microbiome): there is no package called ‘microbiome’\n",
     "output_type": "error",
     "traceback": [
      "Error in library(microbiome): there is no package called ‘microbiome’\nTraceback:\n",
      "1. library(microbiome)",
      "2. stop(txt, domain = NA)"
     ]
    }
   ],
   "source": []
  },
  {
   "cell_type": "code",
   "execution_count": 3,
   "metadata": {},
   "outputs": [],
   "source": []
  },
  {
   "cell_type": "code",
   "execution_count": 8,
   "metadata": {},
   "outputs": [
    {
     "name": "stderr",
     "output_type": "stream",
     "text": [
      "Downloading GitHub repo microbiome/microbiome@master\n",
      "from URL https://api.github.com/repos/microbiome/microbiome/zipball/master\n",
      "Installing microbiome\n",
      "Installing dplyr\n",
      "Installing BH\n",
      "'/opt/microsoft/ropen/3.4.1/lib64/R/bin/R' --no-site-file --no-environ  \\\n",
      "  --no-save --no-restore --quiet CMD INSTALL  \\\n",
      "  '/tmp/Rtmp4A5eDo/devtools4238d3fd9f/BH' --library='/home/nbuser/R'  \\\n",
      "  --install-tests \n",
      "\n",
      "Installing bindrcpp\n",
      "Installing bindr\n",
      "'/opt/microsoft/ropen/3.4.1/lib64/R/bin/R' --no-site-file --no-environ  \\\n",
      "  --no-save --no-restore --quiet CMD INSTALL  \\\n",
      "  '/tmp/Rtmp4A5eDo/devtools4268eb1911/bindr' --library='/home/nbuser/R'  \\\n",
      "  --install-tests \n",
      "\n",
      "Installing plogr\n",
      "'/opt/microsoft/ropen/3.4.1/lib64/R/bin/R' --no-site-file --no-environ  \\\n",
      "  --no-save --no-restore --quiet CMD INSTALL  \\\n",
      "  '/tmp/Rtmp4A5eDo/devtools422b94149d/plogr' --library='/home/nbuser/R'  \\\n",
      "  --install-tests \n",
      "\n",
      "Installing Rcpp\n",
      "'/opt/microsoft/ropen/3.4.1/lib64/R/bin/R' --no-site-file --no-environ  \\\n",
      "  --no-save --no-restore --quiet CMD INSTALL  \\\n",
      "  '/tmp/Rtmp4A5eDo/devtools42222afdda/Rcpp' --library='/home/nbuser/R'  \\\n",
      "  --install-tests \n",
      "\n",
      "'/opt/microsoft/ropen/3.4.1/lib64/R/bin/R' --no-site-file --no-environ  \\\n",
      "  --no-save --no-restore --quiet CMD INSTALL  \\\n",
      "  '/tmp/Rtmp4A5eDo/devtools4232e391b2/bindrcpp' --library='/home/nbuser/R'  \\\n",
      "  --install-tests \n",
      "\n",
      "Skipping install of 'plogr' from a cran remote, the SHA1 (0.2.0) has not changed since last install.\n",
      "  Use `force = TRUE` to force installation\n",
      "Skipping install of 'Rcpp' from a cran remote, the SHA1 (0.12.17) has not changed since last install.\n",
      "  Use `force = TRUE` to force installation\n",
      "Installing rlang\n",
      "'/opt/microsoft/ropen/3.4.1/lib64/R/bin/R' --no-site-file --no-environ  \\\n",
      "  --no-save --no-restore --quiet CMD INSTALL  \\\n",
      "  '/tmp/Rtmp4A5eDo/devtools426b87f9d8/rlang' --library='/home/nbuser/R'  \\\n",
      "  --install-tests \n",
      "\n",
      "Installing tibble\n",
      "Installing pillar\n",
      "'/opt/microsoft/ropen/3.4.1/lib64/R/bin/R' --no-site-file --no-environ  \\\n",
      "  --no-save --no-restore --quiet CMD INSTALL  \\\n",
      "  '/tmp/Rtmp4A5eDo/devtools426f784498/pillar' --library='/home/nbuser/R'  \\\n",
      "  --install-tests \n",
      "\n",
      "'/opt/microsoft/ropen/3.4.1/lib64/R/bin/R' --no-site-file --no-environ  \\\n",
      "  --no-save --no-restore --quiet CMD INSTALL  \\\n",
      "  '/tmp/Rtmp4A5eDo/devtools42690f6e1c/tibble' --library='/home/nbuser/R'  \\\n",
      "  --install-tests \n",
      "\n",
      "Installing tidyselect\n",
      "'/opt/microsoft/ropen/3.4.1/lib64/R/bin/R' --no-site-file --no-environ  \\\n",
      "  --no-save --no-restore --quiet CMD INSTALL  \\\n",
      "  '/tmp/Rtmp4A5eDo/devtools427bf18e9b/tidyselect' --library='/home/nbuser/R'  \\\n",
      "  --install-tests \n",
      "\n",
      "'/opt/microsoft/ropen/3.4.1/lib64/R/bin/R' --no-site-file --no-environ  \\\n",
      "  --no-save --no-restore --quiet CMD INSTALL  \\\n",
      "  '/tmp/Rtmp4A5eDo/devtools42362568c9/dplyr' --library='/home/nbuser/R'  \\\n",
      "  --install-tests \n",
      "\n",
      "Installing phyloseq\n",
      "Installing ade4\n",
      "'/opt/microsoft/ropen/3.4.1/lib64/R/bin/R' --no-site-file --no-environ  \\\n",
      "  --no-save --no-restore --quiet CMD INSTALL  \\\n",
      "  '/tmp/Rtmp4A5eDo/devtools42509c6b20/ade4' --library='/home/nbuser/R'  \\\n",
      "  --install-tests \n",
      "\n",
      "Reloading installed ade4\n",
      "Installing ape\n",
      "'/opt/microsoft/ropen/3.4.1/lib64/R/bin/R' --no-site-file --no-environ  \\\n",
      "  --no-save --no-restore --quiet CMD INSTALL  \\\n",
      "  '/tmp/Rtmp4A5eDo/devtools4272f5fa38/ape' --library='/home/nbuser/R'  \\\n",
      "  --install-tests \n",
      "\n",
      "Installing Biobase\n",
      "Installing BiocGenerics\n",
      "'/opt/microsoft/ropen/3.4.1/lib64/R/bin/R' --no-site-file --no-environ  \\\n",
      "  --no-save --no-restore --quiet CMD INSTALL  \\\n",
      "  '/tmp/Rtmp4A5eDo/devtools4242babb6/BiocGenerics' --library='/home/nbuser/R'  \\\n",
      "  --install-tests \n",
      "\n",
      "'/opt/microsoft/ropen/3.4.1/lib64/R/bin/R' --no-site-file --no-environ  \\\n",
      "  --no-save --no-restore --quiet CMD INSTALL  \\\n",
      "  '/tmp/Rtmp4A5eDo/devtools422621eede/Biobase' --library='/home/nbuser/R'  \\\n",
      "  --install-tests \n",
      "\n",
      "Skipping install of 'BiocGenerics' from a cran remote, the SHA1 (0.24.0) has not changed since last install.\n",
      "  Use `force = TRUE` to force installation\n",
      "Installing biomformat\n",
      "Installing rhdf5\n",
      "Installing zlibbioc\n",
      "'/opt/microsoft/ropen/3.4.1/lib64/R/bin/R' --no-site-file --no-environ  \\\n",
      "  --no-save --no-restore --quiet CMD INSTALL  \\\n",
      "  '/tmp/Rtmp4A5eDo/devtools422622d7ab/zlibbioc' --library='/home/nbuser/R'  \\\n",
      "  --install-tests \n",
      "\n",
      "'/opt/microsoft/ropen/3.4.1/lib64/R/bin/R' --no-site-file --no-environ  \\\n",
      "  --no-save --no-restore --quiet CMD INSTALL  \\\n",
      "  '/tmp/Rtmp4A5eDo/devtools42235b0440/rhdf5' --library='/home/nbuser/R'  \\\n",
      "  --install-tests \n",
      "\n",
      "'/opt/microsoft/ropen/3.4.1/lib64/R/bin/R' --no-site-file --no-environ  \\\n",
      "  --no-save --no-restore --quiet CMD INSTALL  \\\n",
      "  '/tmp/Rtmp4A5eDo/devtools422e992583/biomformat' --library='/home/nbuser/R'  \\\n",
      "  --install-tests \n",
      "\n",
      "Installing Biostrings\n",
      "Installing IRanges\n",
      "Installing S4Vectors\n",
      "'/opt/microsoft/ropen/3.4.1/lib64/R/bin/R' --no-site-file --no-environ  \\\n",
      "  --no-save --no-restore --quiet CMD INSTALL  \\\n",
      "  '/tmp/Rtmp4A5eDo/devtools42619fa67c/S4Vectors' --library='/home/nbuser/R'  \\\n",
      "  --install-tests \n",
      "\n",
      "'/opt/microsoft/ropen/3.4.1/lib64/R/bin/R' --no-site-file --no-environ  \\\n",
      "  --no-save --no-restore --quiet CMD INSTALL  \\\n",
      "  '/tmp/Rtmp4A5eDo/devtools4274afe434/IRanges' --library='/home/nbuser/R'  \\\n",
      "  --install-tests \n",
      "\n",
      "Skipping install of 'S4Vectors' from a cran remote, the SHA1 (0.16.0) has not changed since last install.\n",
      "  Use `force = TRUE` to force installation\n",
      "Installing XVector\n",
      "'/opt/microsoft/ropen/3.4.1/lib64/R/bin/R' --no-site-file --no-environ  \\\n",
      "  --no-save --no-restore --quiet CMD INSTALL  \\\n",
      "  '/tmp/Rtmp4A5eDo/devtools422c5a86b4/XVector' --library='/home/nbuser/R'  \\\n",
      "  --install-tests \n",
      "\n",
      "'/opt/microsoft/ropen/3.4.1/lib64/R/bin/R' --no-site-file --no-environ  \\\n",
      "  --no-save --no-restore --quiet CMD INSTALL  \\\n",
      "  '/tmp/Rtmp4A5eDo/devtools42550c8d03/Biostrings' --library='/home/nbuser/R'  \\\n",
      "  --install-tests \n",
      "\n",
      "Installing data.table\n",
      "'/opt/microsoft/ropen/3.4.1/lib64/R/bin/R' --no-site-file --no-environ  \\\n",
      "  --no-save --no-restore --quiet CMD INSTALL  \\\n",
      "  '/tmp/Rtmp4A5eDo/devtools424030fc5a/data.table' --library='/home/nbuser/R'  \\\n",
      "  --install-tests \n",
      "\n",
      "Installing multtest\n",
      "'/opt/microsoft/ropen/3.4.1/lib64/R/bin/R' --no-site-file --no-environ  \\\n",
      "  --no-save --no-restore --quiet CMD INSTALL  \\\n",
      "  '/tmp/Rtmp4A5eDo/devtools423447f732/multtest' --library='/home/nbuser/R'  \\\n",
      "  --install-tests \n",
      "\n",
      "Installing vegan\n",
      "'/opt/microsoft/ropen/3.4.1/lib64/R/bin/R' --no-site-file --no-environ  \\\n",
      "  --no-save --no-restore --quiet CMD INSTALL  \\\n",
      "  '/tmp/Rtmp4A5eDo/devtools4236b7d51c/vegan' --library='/home/nbuser/R'  \\\n",
      "  --install-tests \n",
      "\n",
      "'/opt/microsoft/ropen/3.4.1/lib64/R/bin/R' --no-site-file --no-environ  \\\n",
      "  --no-save --no-restore --quiet CMD INSTALL  \\\n",
      "  '/tmp/Rtmp4A5eDo/devtools425314aea4/phyloseq' --library='/home/nbuser/R'  \\\n",
      "  --install-tests \n",
      "\n",
      "Installing Rtsne\n",
      "'/opt/microsoft/ropen/3.4.1/lib64/R/bin/R' --no-site-file --no-environ  \\\n",
      "  --no-save --no-restore --quiet CMD INSTALL  \\\n",
      "  '/tmp/Rtmp4A5eDo/devtools421e89183d/Rtsne' --library='/home/nbuser/R'  \\\n",
      "  --install-tests \n",
      "\n",
      "Installing tidyr\n",
      "'/opt/microsoft/ropen/3.4.1/lib64/R/bin/R' --no-site-file --no-environ  \\\n",
      "  --no-save --no-restore --quiet CMD INSTALL  \\\n",
      "  '/tmp/Rtmp4A5eDo/devtools421bc0a0e7/tidyr' --library='/home/nbuser/R'  \\\n",
      "  --install-tests \n",
      "\n",
      "Skipping install of 'vegan' from a cran remote, the SHA1 (2.5-2) has not changed since last install.\n",
      "  Use `force = TRUE` to force installation\n",
      "'/opt/microsoft/ropen/3.4.1/lib64/R/bin/R' --no-site-file --no-environ  \\\n",
      "  --no-save --no-restore --quiet CMD INSTALL  \\\n",
      "  '/tmp/Rtmp4A5eDo/devtools426c0ab47a/microbiome-microbiome-8164c1f'  \\\n",
      "  --library='/home/nbuser/R' --install-tests \n",
      "\n"
     ]
    }
   ],
   "source": [
    "library(devtools)\n",
    "install_github(\"microbiome/microbiome\")"
   ]
  },
  {
   "cell_type": "code",
   "execution_count": null,
   "metadata": {},
   "outputs": [],
   "source": [
    "print(\"hi\")"
   ]
  },
  {
   "cell_type": "code",
   "execution_count": 10,
   "metadata": {},
   "outputs": [
    {
     "name": "stderr",
     "output_type": "stream",
     "text": [
      "Loading required package: phyloseq\n",
      "Loading required package: ggplot2\n"
     ]
    },
    {
     "ename": "ERROR",
     "evalue": "Error: package or namespace load failed for ‘microbiome’ in loadNamespace(j <- i[[1L]], c(lib.loc, .libPaths()), versionCheck = vI[[j]]):\n namespace ‘Rcpp’ 0.12.14 is already loaded, but >= 0.12.15 is required\n",
     "output_type": "error",
     "traceback": [
      "Error: package or namespace load failed for ‘microbiome’ in loadNamespace(j <- i[[1L]], c(lib.loc, .libPaths()), versionCheck = vI[[j]]):\n namespace ‘Rcpp’ 0.12.14 is already loaded, but >= 0.12.15 is required\nTraceback:\n",
      "1. library(microbiome)",
      "2. tryCatch({\n .     attr(package, \"LibPath\") <- which.lib.loc\n .     ns <- loadNamespace(package, lib.loc)\n .     env <- attachNamespace(ns, pos = pos, deps)\n . }, error = function(e) {\n .     P <- if (!is.null(cc <- conditionCall(e))) \n .         paste(\" in\", deparse(cc)[1L])\n .     else \"\"\n .     msg <- gettextf(\"package or namespace load failed for %s%s:\\n %s\", \n .         sQuote(package), P, conditionMessage(e))\n .     if (logical.return) \n .         message(paste(\"Error:\", msg), domain = NA)\n .     else stop(msg, call. = FALSE, domain = NA)\n . })",
      "3. tryCatchList(expr, classes, parentenv, handlers)",
      "4. tryCatchOne(expr, names, parentenv, handlers[[1L]])",
      "5. value[[3L]](cond)",
      "6. stop(msg, call. = FALSE, domain = NA)"
     ]
    }
   ],
   "source": [
    "library(microbiome)"
   ]
  },
  {
   "cell_type": "code",
   "execution_count": null,
   "metadata": {},
   "outputs": [
    {
     "name": "stderr",
     "output_type": "stream",
     "text": [
      "Installing package into ‘/home/nbuser/R’\n",
      "(as ‘lib’ is unspecified)\n"
     ]
    }
   ],
   "source": [
    "install.packages(\"Rcpp\")"
   ]
  },
  {
   "cell_type": "code",
   "execution_count": null,
   "metadata": {},
   "outputs": [],
   "source": []
  }
 ],
 "metadata": {
  "kernelspec": {
   "display_name": "R",
   "language": "R",
   "name": "r"
  },
  "language_info": {
   "codemirror_mode": "r",
   "file_extension": ".r",
   "mimetype": "text/x-r-source",
   "name": "R",
   "pygments_lexer": "r",
   "version": "3.4.1"
  }
 },
 "nbformat": 4,
 "nbformat_minor": 2
}
