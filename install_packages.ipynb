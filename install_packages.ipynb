{
 "cells": [
  {
   "cell_type": "code",
   "execution_count": null,
   "metadata": {},
   "outputs": [],
   "source": [
    "install.packages(\"vegan\", dependencies = T)\n",
    "source(\"https://bioconductor.org/biocLite.R\")\n",
    "biocLite()"
   ]
  },
  {
   "cell_type": "code",
   "execution_count": null,
   "metadata": {},
   "outputs": [],
   "source": [
    "source(\"http://www.bioconductor.org/biocLite.R\")\n",
    "biocLite(c(\"ade4\", \"fastcluster\", \"df2json\", \"rjson\", \"gplots\", \"devtools\", \"ggplot2\",\"MASS\",\"minet\",\"mixOmics\", \"plyr\",\"qvalue\",\"reshape2\",\"RPA\",\"svDialogs\",\"vegan\",\"WGCNA\"))"
   ]
  },
  {
   "cell_type": "code",
   "execution_count": null,
   "metadata": {},
   "outputs": [],
   "source": [
    "library(devtools)\n",
    "install_github(\"microbiome/microbiome\")"
   ]
  },
  {
   "cell_type": "code",
   "execution_count": null,
   "metadata": {},
   "outputs": [],
   "source": [
    "install.packages(c(\"DESeq2\", \"DT\"))"
   ]
  },
  {
   "cell_type": "code",
   "execution_count": 3,
   "metadata": {},
   "outputs": [],
   "source": [
    "library(ggplot2)\n",
    "library(ape)\n",
    "library(plyr)\n",
    "library(vegan)\n",
    "library(Biostrings)\n",
    "library(RColorBrewer)\n",
    "library(reshape2)\n",
    "library(scales)\n",
    "library(data.table)\n",
    "library(DESeq2) # in case you want to use negative binomial for differential OTU analysis\n",
    "library(microbiome)\n",
    "library(dplyr)\n",
    "library(phyloseq)\n",
    "library(DT) #for interactive tables\n",
    "library(Rcpp)"
   ]
  },
  {
   "cell_type": "code",
   "execution_count": 3,
   "metadata": {},
   "outputs": [],
   "source": []
  }
 ],
 "metadata": {
  "kernelspec": {
   "display_name": "R",
   "language": "R",
   "name": "ir"
  },
  "language_info": {
   "codemirror_mode": "r",
   "file_extension": ".r",
   "mimetype": "text/x-r-source",
   "name": "R",
   "pygments_lexer": "r",
   "version": "3.4.4"
  }
 },
 "nbformat": 4,
 "nbformat_minor": 2
}
